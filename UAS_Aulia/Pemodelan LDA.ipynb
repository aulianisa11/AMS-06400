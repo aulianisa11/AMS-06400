{
 "cells": [
  {
   "cell_type": "markdown",
   "id": "d3447d2c",
   "metadata": {},
   "source": [
    "# Aulia Khoirun Nisa - A12.2020.06400"
   ]
  },
  {
   "cell_type": "markdown",
   "id": "0b5d6e8a",
   "metadata": {},
   "source": [
    "2. Topic Modelling Metode (Topik dari tiap sentimen yang didapatkan)\n",
    "Jelaskan metode yang digunakan (LDA/LSA/PLSA atau yang lain). Dijelaskan juga alasan memakai metode tsb.\n",
    "Menjelaskan coding dan hasilnya"
   ]
  },
  {
   "cell_type": "code",
   "execution_count": 1,
   "id": "a651c41b",
   "metadata": {},
   "outputs": [
    {
     "name": "stdout",
     "output_type": "stream",
     "text": [
      "Requirement already satisfied: gensim in c:\\users\\acer\\anaconda3\\lib\\site-packages (4.3.0)\n",
      "Requirement already satisfied: numpy>=1.18.5 in c:\\users\\acer\\anaconda3\\lib\\site-packages (from gensim) (1.21.5)\n",
      "Requirement already satisfied: smart-open>=1.8.1 in c:\\users\\acer\\anaconda3\\lib\\site-packages (from gensim) (5.1.0)\n",
      "Requirement already satisfied: scipy>=1.7.0 in c:\\users\\acer\\anaconda3\\lib\\site-packages (from gensim) (1.7.3)\n",
      "Requirement already satisfied: FuzzyTM>=0.4.0 in c:\\users\\acer\\anaconda3\\lib\\site-packages (from gensim) (2.0.5)\n",
      "Requirement already satisfied: Cython==0.29.32 in c:\\users\\acer\\anaconda3\\lib\\site-packages (from gensim) (0.29.32)\n",
      "Requirement already satisfied: pandas in c:\\users\\acer\\anaconda3\\lib\\site-packages (from FuzzyTM>=0.4.0->gensim) (1.4.2)\n",
      "Requirement already satisfied: pyfume in c:\\users\\acer\\anaconda3\\lib\\site-packages (from FuzzyTM>=0.4.0->gensim) (0.2.25)\n",
      "Requirement already satisfied: python-dateutil>=2.8.1 in c:\\users\\acer\\anaconda3\\lib\\site-packages (from pandas->FuzzyTM>=0.4.0->gensim) (2.8.2)\n",
      "Requirement already satisfied: pytz>=2020.1 in c:\\users\\acer\\anaconda3\\lib\\site-packages (from pandas->FuzzyTM>=0.4.0->gensim) (2021.3)\n",
      "Requirement already satisfied: six>=1.5 in c:\\users\\acer\\anaconda3\\lib\\site-packages (from python-dateutil>=2.8.1->pandas->FuzzyTM>=0.4.0->gensim) (1.16.0)\n",
      "Requirement already satisfied: simpful in c:\\users\\acer\\anaconda3\\lib\\site-packages (from pyfume->FuzzyTM>=0.4.0->gensim) (2.9.0)\n",
      "Requirement already satisfied: fst-pso in c:\\users\\acer\\anaconda3\\lib\\site-packages (from pyfume->FuzzyTM>=0.4.0->gensim) (1.8.1)\n",
      "Requirement already satisfied: miniful in c:\\users\\acer\\anaconda3\\lib\\site-packages (from fst-pso->pyfume->FuzzyTM>=0.4.0->gensim) (0.0.6)\n",
      "Requirement already satisfied: requests in c:\\users\\acer\\anaconda3\\lib\\site-packages (from simpful->pyfume->FuzzyTM>=0.4.0->gensim) (2.27.1)\n",
      "Requirement already satisfied: urllib3<1.27,>=1.21.1 in c:\\users\\acer\\anaconda3\\lib\\site-packages (from requests->simpful->pyfume->FuzzyTM>=0.4.0->gensim) (1.26.9)\n",
      "Requirement already satisfied: idna<4,>=2.5 in c:\\users\\acer\\anaconda3\\lib\\site-packages (from requests->simpful->pyfume->FuzzyTM>=0.4.0->gensim) (3.3)\n",
      "Requirement already satisfied: certifi>=2017.4.17 in c:\\users\\acer\\anaconda3\\lib\\site-packages (from requests->simpful->pyfume->FuzzyTM>=0.4.0->gensim) (2021.10.8)\n",
      "Requirement already satisfied: charset-normalizer~=2.0.0 in c:\\users\\acer\\anaconda3\\lib\\site-packages (from requests->simpful->pyfume->FuzzyTM>=0.4.0->gensim) (2.0.4)\n"
     ]
    }
   ],
   "source": [
    "!pip install --upgrade gensim"
   ]
  },
  {
   "cell_type": "code",
   "execution_count": 2,
   "id": "2dc6903e",
   "metadata": {},
   "outputs": [
    {
     "name": "stdout",
     "output_type": "stream",
     "text": [
      "Requirement already satisfied: pyldavis==3.2.1 in c:\\users\\acer\\anaconda3\\lib\\site-packages (3.2.1)\n",
      "Requirement already satisfied: wheel>=0.23.0 in c:\\users\\acer\\anaconda3\\lib\\site-packages (from pyldavis==3.2.1) (0.37.1)\n",
      "Requirement already satisfied: jinja2>=2.7.2 in c:\\users\\acer\\anaconda3\\lib\\site-packages (from pyldavis==3.2.1) (2.11.3)\n",
      "Requirement already satisfied: numexpr in c:\\users\\acer\\anaconda3\\lib\\site-packages (from pyldavis==3.2.1) (2.8.1)\n",
      "Requirement already satisfied: numpy>=1.9.2 in c:\\users\\acer\\anaconda3\\lib\\site-packages (from pyldavis==3.2.1) (1.21.5)\n",
      "Requirement already satisfied: future in c:\\users\\acer\\anaconda3\\lib\\site-packages (from pyldavis==3.2.1) (0.18.2)\n",
      "Requirement already satisfied: funcy in c:\\users\\acer\\anaconda3\\lib\\site-packages (from pyldavis==3.2.1) (1.17)\n",
      "Requirement already satisfied: pandas>=0.17.0 in c:\\users\\acer\\anaconda3\\lib\\site-packages (from pyldavis==3.2.1) (1.4.2)\n",
      "Requirement already satisfied: scipy>=0.18.0 in c:\\users\\acer\\anaconda3\\lib\\site-packages (from pyldavis==3.2.1) (1.7.3)\n",
      "Requirement already satisfied: joblib>=0.8.4 in c:\\users\\acer\\anaconda3\\lib\\site-packages (from pyldavis==3.2.1) (1.1.0)\n",
      "Requirement already satisfied: MarkupSafe>=0.23 in c:\\users\\acer\\anaconda3\\lib\\site-packages (from jinja2>=2.7.2->pyldavis==3.2.1) (2.0.1)\n",
      "Requirement already satisfied: python-dateutil>=2.8.1 in c:\\users\\acer\\anaconda3\\lib\\site-packages (from pandas>=0.17.0->pyldavis==3.2.1) (2.8.2)\n",
      "Requirement already satisfied: pytz>=2020.1 in c:\\users\\acer\\anaconda3\\lib\\site-packages (from pandas>=0.17.0->pyldavis==3.2.1) (2021.3)\n",
      "Requirement already satisfied: six>=1.5 in c:\\users\\acer\\anaconda3\\lib\\site-packages (from python-dateutil>=2.8.1->pandas>=0.17.0->pyldavis==3.2.1) (1.16.0)\n",
      "Requirement already satisfied: packaging in c:\\users\\acer\\anaconda3\\lib\\site-packages (from numexpr->pyldavis==3.2.1) (21.3)\n",
      "Requirement already satisfied: pyparsing!=3.0.5,>=2.0.2 in c:\\users\\acer\\anaconda3\\lib\\site-packages (from packaging->numexpr->pyldavis==3.2.1) (3.0.4)\n"
     ]
    }
   ],
   "source": [
    "!pip install pyldavis==3.2.1"
   ]
  },
  {
   "cell_type": "code",
   "execution_count": 3,
   "id": "2a0fcfb6",
   "metadata": {},
   "outputs": [
    {
     "name": "stdout",
     "output_type": "stream",
     "text": [
      "Requirement already satisfied: Sastrawi in c:\\users\\acer\\anaconda3\\lib\\site-packages (1.0.1)\n"
     ]
    }
   ],
   "source": [
    "!pip install Sastrawi"
   ]
  },
  {
   "cell_type": "code",
   "execution_count": 4,
   "id": "206f9b75",
   "metadata": {},
   "outputs": [
    {
     "name": "stdout",
     "output_type": "stream",
     "text": [
      "Requirement already satisfied: swifter in c:\\users\\acer\\anaconda3\\lib\\site-packages (1.3.4)\n",
      "Requirement already satisfied: tqdm>=4.33.0 in c:\\users\\acer\\anaconda3\\lib\\site-packages (from swifter) (4.64.0)\n",
      "Requirement already satisfied: pandas>=1.0.0 in c:\\users\\acer\\anaconda3\\lib\\site-packages (from swifter) (1.4.2)\n",
      "Requirement already satisfied: bleach>=3.1.1 in c:\\users\\acer\\anaconda3\\lib\\site-packages (from swifter) (4.1.0)\n",
      "Requirement already satisfied: ipywidgets>=7.0.0 in c:\\users\\acer\\anaconda3\\lib\\site-packages (from swifter) (7.6.5)\n",
      "Requirement already satisfied: parso>0.4.0 in c:\\users\\acer\\anaconda3\\lib\\site-packages (from swifter) (0.8.3)\n",
      "Requirement already satisfied: psutil>=5.6.6 in c:\\users\\acer\\anaconda3\\lib\\site-packages (from swifter) (5.8.0)\n",
      "Requirement already satisfied: dask[dataframe]>=2.10.0 in c:\\users\\acer\\anaconda3\\lib\\site-packages (from swifter) (2022.2.1)\n",
      "Requirement already satisfied: cloudpickle>=0.2.2 in c:\\users\\acer\\anaconda3\\lib\\site-packages (from swifter) (2.0.0)\n",
      "Requirement already satisfied: webencodings in c:\\users\\acer\\anaconda3\\lib\\site-packages (from bleach>=3.1.1->swifter) (0.5.1)\n",
      "Requirement already satisfied: packaging in c:\\users\\acer\\anaconda3\\lib\\site-packages (from bleach>=3.1.1->swifter) (21.3)\n",
      "Requirement already satisfied: six>=1.9.0 in c:\\users\\acer\\anaconda3\\lib\\site-packages (from bleach>=3.1.1->swifter) (1.16.0)\n",
      "Requirement already satisfied: pyyaml>=5.3.1 in c:\\users\\acer\\anaconda3\\lib\\site-packages (from dask[dataframe]>=2.10.0->swifter) (6.0)\n",
      "Requirement already satisfied: toolz>=0.8.2 in c:\\users\\acer\\anaconda3\\lib\\site-packages (from dask[dataframe]>=2.10.0->swifter) (0.11.2)\n",
      "Requirement already satisfied: partd>=0.3.10 in c:\\users\\acer\\anaconda3\\lib\\site-packages (from dask[dataframe]>=2.10.0->swifter) (1.2.0)\n",
      "Requirement already satisfied: fsspec>=0.6.0 in c:\\users\\acer\\anaconda3\\lib\\site-packages (from dask[dataframe]>=2.10.0->swifter) (2022.2.0)\n",
      "Requirement already satisfied: numpy>=1.18 in c:\\users\\acer\\anaconda3\\lib\\site-packages (from dask[dataframe]>=2.10.0->swifter) (1.21.5)\n",
      "Requirement already satisfied: widgetsnbextension~=3.5.0 in c:\\users\\acer\\anaconda3\\lib\\site-packages (from ipywidgets>=7.0.0->swifter) (3.5.2)\n",
      "Requirement already satisfied: ipython>=4.0.0 in c:\\users\\acer\\anaconda3\\lib\\site-packages (from ipywidgets>=7.0.0->swifter) (8.2.0)\n",
      "Requirement already satisfied: traitlets>=4.3.1 in c:\\users\\acer\\anaconda3\\lib\\site-packages (from ipywidgets>=7.0.0->swifter) (5.1.1)\n",
      "Requirement already satisfied: jupyterlab-widgets>=1.0.0 in c:\\users\\acer\\anaconda3\\lib\\site-packages (from ipywidgets>=7.0.0->swifter) (1.0.0)\n",
      "Requirement already satisfied: ipykernel>=4.5.1 in c:\\users\\acer\\anaconda3\\lib\\site-packages (from ipywidgets>=7.0.0->swifter) (6.9.1)\n",
      "Requirement already satisfied: nbformat>=4.2.0 in c:\\users\\acer\\anaconda3\\lib\\site-packages (from ipywidgets>=7.0.0->swifter) (5.3.0)\n",
      "Requirement already satisfied: ipython-genutils~=0.2.0 in c:\\users\\acer\\anaconda3\\lib\\site-packages (from ipywidgets>=7.0.0->swifter) (0.2.0)\n",
      "Requirement already satisfied: matplotlib-inline<0.2.0,>=0.1.0 in c:\\users\\acer\\anaconda3\\lib\\site-packages (from ipykernel>=4.5.1->ipywidgets>=7.0.0->swifter) (0.1.2)\n",
      "Requirement already satisfied: nest-asyncio in c:\\users\\acer\\anaconda3\\lib\\site-packages (from ipykernel>=4.5.1->ipywidgets>=7.0.0->swifter) (1.5.5)\n",
      "Requirement already satisfied: debugpy<2.0,>=1.0.0 in c:\\users\\acer\\anaconda3\\lib\\site-packages (from ipykernel>=4.5.1->ipywidgets>=7.0.0->swifter) (1.5.1)\n",
      "Requirement already satisfied: jupyter-client<8.0 in c:\\users\\acer\\anaconda3\\lib\\site-packages (from ipykernel>=4.5.1->ipywidgets>=7.0.0->swifter) (6.1.12)\n",
      "Requirement already satisfied: tornado<7.0,>=4.2 in c:\\users\\acer\\anaconda3\\lib\\site-packages (from ipykernel>=4.5.1->ipywidgets>=7.0.0->swifter) (6.1)\n",
      "Requirement already satisfied: prompt-toolkit!=3.0.0,!=3.0.1,<3.1.0,>=2.0.0 in c:\\users\\acer\\anaconda3\\lib\\site-packages (from ipython>=4.0.0->ipywidgets>=7.0.0->swifter) (3.0.20)\n",
      "Requirement already satisfied: setuptools>=18.5 in c:\\users\\acer\\anaconda3\\lib\\site-packages (from ipython>=4.0.0->ipywidgets>=7.0.0->swifter) (61.2.0)\n",
      "Requirement already satisfied: pygments>=2.4.0 in c:\\users\\acer\\anaconda3\\lib\\site-packages (from ipython>=4.0.0->ipywidgets>=7.0.0->swifter) (2.11.2)\n",
      "Requirement already satisfied: jedi>=0.16 in c:\\users\\acer\\anaconda3\\lib\\site-packages (from ipython>=4.0.0->ipywidgets>=7.0.0->swifter) (0.18.1)\n",
      "Requirement already satisfied: pickleshare in c:\\users\\acer\\anaconda3\\lib\\site-packages (from ipython>=4.0.0->ipywidgets>=7.0.0->swifter) (0.7.5)\n",
      "Requirement already satisfied: decorator in c:\\users\\acer\\anaconda3\\lib\\site-packages (from ipython>=4.0.0->ipywidgets>=7.0.0->swifter) (5.1.1)\n",
      "Requirement already satisfied: colorama in c:\\users\\acer\\anaconda3\\lib\\site-packages (from ipython>=4.0.0->ipywidgets>=7.0.0->swifter) (0.4.4)\n",
      "Requirement already satisfied: stack-data in c:\\users\\acer\\anaconda3\\lib\\site-packages (from ipython>=4.0.0->ipywidgets>=7.0.0->swifter) (0.2.0)\n",
      "Requirement already satisfied: backcall in c:\\users\\acer\\anaconda3\\lib\\site-packages (from ipython>=4.0.0->ipywidgets>=7.0.0->swifter) (0.2.0)\n",
      "Requirement already satisfied: jupyter-core>=4.6.0 in c:\\users\\acer\\anaconda3\\lib\\site-packages (from jupyter-client<8.0->ipykernel>=4.5.1->ipywidgets>=7.0.0->swifter) (4.9.2)\n",
      "Requirement already satisfied: python-dateutil>=2.1 in c:\\users\\acer\\anaconda3\\lib\\site-packages (from jupyter-client<8.0->ipykernel>=4.5.1->ipywidgets>=7.0.0->swifter) (2.8.2)\n",
      "Requirement already satisfied: pyzmq>=13 in c:\\users\\acer\\anaconda3\\lib\\site-packages (from jupyter-client<8.0->ipykernel>=4.5.1->ipywidgets>=7.0.0->swifter) (22.3.0)\n",
      "Requirement already satisfied: pywin32>=1.0 in c:\\users\\acer\\anaconda3\\lib\\site-packages (from jupyter-core>=4.6.0->jupyter-client<8.0->ipykernel>=4.5.1->ipywidgets>=7.0.0->swifter) (302)\n",
      "Requirement already satisfied: fastjsonschema in c:\\users\\acer\\anaconda3\\lib\\site-packages (from nbformat>=4.2.0->ipywidgets>=7.0.0->swifter) (2.15.1)\n",
      "Requirement already satisfied: jsonschema>=2.6 in c:\\users\\acer\\anaconda3\\lib\\site-packages (from nbformat>=4.2.0->ipywidgets>=7.0.0->swifter) (4.4.0)\n",
      "Requirement already satisfied: pyrsistent!=0.17.0,!=0.17.1,!=0.17.2,>=0.14.0 in c:\\users\\acer\\anaconda3\\lib\\site-packages (from jsonschema>=2.6->nbformat>=4.2.0->ipywidgets>=7.0.0->swifter) (0.18.0)\n",
      "Requirement already satisfied: attrs>=17.4.0 in c:\\users\\acer\\anaconda3\\lib\\site-packages (from jsonschema>=2.6->nbformat>=4.2.0->ipywidgets>=7.0.0->swifter) (21.4.0)\n",
      "Requirement already satisfied: pyparsing!=3.0.5,>=2.0.2 in c:\\users\\acer\\anaconda3\\lib\\site-packages (from packaging->bleach>=3.1.1->swifter) (3.0.4)\n",
      "Requirement already satisfied: pytz>=2020.1 in c:\\users\\acer\\anaconda3\\lib\\site-packages (from pandas>=1.0.0->swifter) (2021.3)\n",
      "Requirement already satisfied: locket in c:\\users\\acer\\anaconda3\\lib\\site-packages (from partd>=0.3.10->dask[dataframe]>=2.10.0->swifter) (0.2.1)\n",
      "Requirement already satisfied: wcwidth in c:\\users\\acer\\anaconda3\\lib\\site-packages (from prompt-toolkit!=3.0.0,!=3.0.1,<3.1.0,>=2.0.0->ipython>=4.0.0->ipywidgets>=7.0.0->swifter) (0.2.5)\n",
      "Requirement already satisfied: notebook>=4.4.1 in c:\\users\\acer\\anaconda3\\lib\\site-packages (from widgetsnbextension~=3.5.0->ipywidgets>=7.0.0->swifter) (6.4.8)\n",
      "Requirement already satisfied: Send2Trash>=1.8.0 in c:\\users\\acer\\anaconda3\\lib\\site-packages (from notebook>=4.4.1->widgetsnbextension~=3.5.0->ipywidgets>=7.0.0->swifter) (1.8.0)\n",
      "Requirement already satisfied: nbconvert in c:\\users\\acer\\anaconda3\\lib\\site-packages (from notebook>=4.4.1->widgetsnbextension~=3.5.0->ipywidgets>=7.0.0->swifter) (6.4.4)\n",
      "Requirement already satisfied: jinja2 in c:\\users\\acer\\anaconda3\\lib\\site-packages (from notebook>=4.4.1->widgetsnbextension~=3.5.0->ipywidgets>=7.0.0->swifter) (2.11.3)\n",
      "Requirement already satisfied: argon2-cffi in c:\\users\\acer\\anaconda3\\lib\\site-packages (from notebook>=4.4.1->widgetsnbextension~=3.5.0->ipywidgets>=7.0.0->swifter) (21.3.0)\n",
      "Requirement already satisfied: prometheus-client in c:\\users\\acer\\anaconda3\\lib\\site-packages (from notebook>=4.4.1->widgetsnbextension~=3.5.0->ipywidgets>=7.0.0->swifter) (0.13.1)\n",
      "Requirement already satisfied: terminado>=0.8.3 in c:\\users\\acer\\anaconda3\\lib\\site-packages (from notebook>=4.4.1->widgetsnbextension~=3.5.0->ipywidgets>=7.0.0->swifter) (0.13.1)\n",
      "Requirement already satisfied: pywinpty>=1.1.0 in c:\\users\\acer\\anaconda3\\lib\\site-packages (from terminado>=0.8.3->notebook>=4.4.1->widgetsnbextension~=3.5.0->ipywidgets>=7.0.0->swifter) (2.0.2)\n",
      "Requirement already satisfied: argon2-cffi-bindings in c:\\users\\acer\\anaconda3\\lib\\site-packages (from argon2-cffi->notebook>=4.4.1->widgetsnbextension~=3.5.0->ipywidgets>=7.0.0->swifter) (21.2.0)\n",
      "Requirement already satisfied: cffi>=1.0.1 in c:\\users\\acer\\anaconda3\\lib\\site-packages (from argon2-cffi-bindings->argon2-cffi->notebook>=4.4.1->widgetsnbextension~=3.5.0->ipywidgets>=7.0.0->swifter) (1.15.0)\n",
      "Requirement already satisfied: pycparser in c:\\users\\acer\\anaconda3\\lib\\site-packages (from cffi>=1.0.1->argon2-cffi-bindings->argon2-cffi->notebook>=4.4.1->widgetsnbextension~=3.5.0->ipywidgets>=7.0.0->swifter) (2.21)\n",
      "Requirement already satisfied: MarkupSafe>=0.23 in c:\\users\\acer\\anaconda3\\lib\\site-packages (from jinja2->notebook>=4.4.1->widgetsnbextension~=3.5.0->ipywidgets>=7.0.0->swifter) (2.0.1)\n",
      "Requirement already satisfied: testpath in c:\\users\\acer\\anaconda3\\lib\\site-packages (from nbconvert->notebook>=4.4.1->widgetsnbextension~=3.5.0->ipywidgets>=7.0.0->swifter) (0.5.0)\n",
      "Requirement already satisfied: defusedxml in c:\\users\\acer\\anaconda3\\lib\\site-packages (from nbconvert->notebook>=4.4.1->widgetsnbextension~=3.5.0->ipywidgets>=7.0.0->swifter) (0.7.1)\n",
      "Requirement already satisfied: pandocfilters>=1.4.1 in c:\\users\\acer\\anaconda3\\lib\\site-packages (from nbconvert->notebook>=4.4.1->widgetsnbextension~=3.5.0->ipywidgets>=7.0.0->swifter) (1.5.0)\n",
      "Requirement already satisfied: mistune<2,>=0.8.1 in c:\\users\\acer\\anaconda3\\lib\\site-packages (from nbconvert->notebook>=4.4.1->widgetsnbextension~=3.5.0->ipywidgets>=7.0.0->swifter) (0.8.4)\n",
      "Requirement already satisfied: beautifulsoup4 in c:\\users\\acer\\anaconda3\\lib\\site-packages (from nbconvert->notebook>=4.4.1->widgetsnbextension~=3.5.0->ipywidgets>=7.0.0->swifter) (4.11.1)\n",
      "Requirement already satisfied: entrypoints>=0.2.2 in c:\\users\\acer\\anaconda3\\lib\\site-packages (from nbconvert->notebook>=4.4.1->widgetsnbextension~=3.5.0->ipywidgets>=7.0.0->swifter) (0.4)\n",
      "Requirement already satisfied: nbclient<0.6.0,>=0.5.0 in c:\\users\\acer\\anaconda3\\lib\\site-packages (from nbconvert->notebook>=4.4.1->widgetsnbextension~=3.5.0->ipywidgets>=7.0.0->swifter) (0.5.13)\n",
      "Requirement already satisfied: jupyterlab-pygments in c:\\users\\acer\\anaconda3\\lib\\site-packages (from nbconvert->notebook>=4.4.1->widgetsnbextension~=3.5.0->ipywidgets>=7.0.0->swifter) (0.1.2)\n",
      "Requirement already satisfied: soupsieve>1.2 in c:\\users\\acer\\anaconda3\\lib\\site-packages (from beautifulsoup4->nbconvert->notebook>=4.4.1->widgetsnbextension~=3.5.0->ipywidgets>=7.0.0->swifter) (2.3.1)\n",
      "Requirement already satisfied: pure-eval in c:\\users\\acer\\anaconda3\\lib\\site-packages (from stack-data->ipython>=4.0.0->ipywidgets>=7.0.0->swifter) (0.2.2)\n",
      "Requirement already satisfied: executing in c:\\users\\acer\\anaconda3\\lib\\site-packages (from stack-data->ipython>=4.0.0->ipywidgets>=7.0.0->swifter) (0.8.3)\n",
      "Requirement already satisfied: asttokens in c:\\users\\acer\\anaconda3\\lib\\site-packages (from stack-data->ipython>=4.0.0->ipywidgets>=7.0.0->swifter) (2.0.5)\n"
     ]
    }
   ],
   "source": [
    "!pip install swifter"
   ]
  },
  {
   "cell_type": "code",
   "execution_count": 5,
   "id": "fc421bab",
   "metadata": {},
   "outputs": [],
   "source": [
    "import pandas as pd\n",
    "import numpy as np\n",
    "import nltk"
   ]
  },
  {
   "cell_type": "code",
   "execution_count": 6,
   "id": "3373db75",
   "metadata": {},
   "outputs": [],
   "source": [
    "dataSB = pd.read_csv('PB_ROBOT.csv')"
   ]
  },
  {
   "cell_type": "code",
   "execution_count": 7,
   "id": "13de0dda",
   "metadata": {},
   "outputs": [
    {
     "data": {
      "text/html": [
       "<div>\n",
       "<style scoped>\n",
       "    .dataframe tbody tr th:only-of-type {\n",
       "        vertical-align: middle;\n",
       "    }\n",
       "\n",
       "    .dataframe tbody tr th {\n",
       "        vertical-align: top;\n",
       "    }\n",
       "\n",
       "    .dataframe thead th {\n",
       "        text-align: right;\n",
       "    }\n",
       "</style>\n",
       "<table border=\"1\" class=\"dataframe\">\n",
       "  <thead>\n",
       "    <tr style=\"text-align: right;\">\n",
       "      <th></th>\n",
       "      <th>username</th>\n",
       "      <th>bintang</th>\n",
       "      <th>review</th>\n",
       "    </tr>\n",
       "  </thead>\n",
       "  <tbody>\n",
       "    <tr>\n",
       "      <th>0</th>\n",
       "      <td>salonayu10</td>\n",
       "      <td>5</td>\n",
       "      <td>Alhamdulillah paketnya sudah sampai dgn aman\\n...</td>\n",
       "    </tr>\n",
       "    <tr>\n",
       "      <th>1</th>\n",
       "      <td>rubbyaqilla13</td>\n",
       "      <td>5</td>\n",
       "      <td>Alhamdulillah, pesanan saya sudah sampai nih k...</td>\n",
       "    </tr>\n",
       "    <tr>\n",
       "      <th>2</th>\n",
       "      <td>n*****1</td>\n",
       "      <td>2</td>\n",
       "      <td>pertama kali aku kasih bintang di bwh 4, tpi e...</td>\n",
       "    </tr>\n",
       "    <tr>\n",
       "      <th>3</th>\n",
       "      <td>erikatjhang</td>\n",
       "      <td>5</td>\n",
       "      <td>Pengiriman sangat cepat, padahal belinya pas l...</td>\n",
       "    </tr>\n",
       "    <tr>\n",
       "      <th>4</th>\n",
       "      <td>nandagiantari2002</td>\n",
       "      <td>5</td>\n",
       "      <td>Jika ingin menghubungi layanan PLN 123, kamu d...</td>\n",
       "    </tr>\n",
       "  </tbody>\n",
       "</table>\n",
       "</div>"
      ],
      "text/plain": [
       "            username  bintang  \\\n",
       "0         salonayu10        5   \n",
       "1      rubbyaqilla13        5   \n",
       "2            n*****1        2   \n",
       "3        erikatjhang        5   \n",
       "4  nandagiantari2002        5   \n",
       "\n",
       "                                              review  \n",
       "0  Alhamdulillah paketnya sudah sampai dgn aman\\n...  \n",
       "1  Alhamdulillah, pesanan saya sudah sampai nih k...  \n",
       "2  pertama kali aku kasih bintang di bwh 4, tpi e...  \n",
       "3  Pengiriman sangat cepat, padahal belinya pas l...  \n",
       "4  Jika ingin menghubungi layanan PLN 123, kamu d...  "
      ]
     },
     "execution_count": 7,
     "metadata": {},
     "output_type": "execute_result"
    }
   ],
   "source": [
    "dataSB.head()"
   ]
  },
  {
   "cell_type": "code",
   "execution_count": 8,
   "id": "87cc9572",
   "metadata": {},
   "outputs": [
    {
     "data": {
      "text/html": [
       "<div>\n",
       "<style scoped>\n",
       "    .dataframe tbody tr th:only-of-type {\n",
       "        vertical-align: middle;\n",
       "    }\n",
       "\n",
       "    .dataframe tbody tr th {\n",
       "        vertical-align: top;\n",
       "    }\n",
       "\n",
       "    .dataframe thead th {\n",
       "        text-align: right;\n",
       "    }\n",
       "</style>\n",
       "<table border=\"1\" class=\"dataframe\">\n",
       "  <thead>\n",
       "    <tr style=\"text-align: right;\">\n",
       "      <th></th>\n",
       "      <th>username</th>\n",
       "      <th>review</th>\n",
       "    </tr>\n",
       "  </thead>\n",
       "  <tbody>\n",
       "    <tr>\n",
       "      <th>0</th>\n",
       "      <td>salonayu10</td>\n",
       "      <td>Alhamdulillah paketnya sudah sampai dgn aman\\n...</td>\n",
       "    </tr>\n",
       "    <tr>\n",
       "      <th>1</th>\n",
       "      <td>rubbyaqilla13</td>\n",
       "      <td>Alhamdulillah, pesanan saya sudah sampai nih k...</td>\n",
       "    </tr>\n",
       "    <tr>\n",
       "      <th>2</th>\n",
       "      <td>n*****1</td>\n",
       "      <td>pertama kali aku kasih bintang di bwh 4, tpi e...</td>\n",
       "    </tr>\n",
       "    <tr>\n",
       "      <th>3</th>\n",
       "      <td>erikatjhang</td>\n",
       "      <td>Pengiriman sangat cepat, padahal belinya pas l...</td>\n",
       "    </tr>\n",
       "    <tr>\n",
       "      <th>4</th>\n",
       "      <td>nandagiantari2002</td>\n",
       "      <td>Jika ingin menghubungi layanan PLN 123, kamu d...</td>\n",
       "    </tr>\n",
       "  </tbody>\n",
       "</table>\n",
       "</div>"
      ],
      "text/plain": [
       "            username                                             review\n",
       "0         salonayu10  Alhamdulillah paketnya sudah sampai dgn aman\\n...\n",
       "1      rubbyaqilla13  Alhamdulillah, pesanan saya sudah sampai nih k...\n",
       "2            n*****1  pertama kali aku kasih bintang di bwh 4, tpi e...\n",
       "3        erikatjhang  Pengiriman sangat cepat, padahal belinya pas l...\n",
       "4  nandagiantari2002  Jika ingin menghubungi layanan PLN 123, kamu d..."
      ]
     },
     "execution_count": 8,
     "metadata": {},
     "output_type": "execute_result"
    }
   ],
   "source": [
    "dataSB = dataSB.drop(columns=['bintang'])\n",
    "dataSB.head()"
   ]
  },
  {
   "cell_type": "code",
   "execution_count": 9,
   "id": "560c52fe",
   "metadata": {},
   "outputs": [
    {
     "name": "stdout",
     "output_type": "stream",
     "text": [
      "Case Folding Result : \n",
      "\n",
      "0    alhamdulillah paketnya sudah sampai dgn aman\\n...\n",
      "1    alhamdulillah, pesanan saya sudah sampai nih k...\n",
      "2    pertama kali aku kasih bintang di bwh 4, tpi e...\n",
      "3    pengiriman sangat cepat, padahal belinya pas l...\n",
      "4    jika ingin menghubungi layanan pln 123, kamu d...\n",
      "Name: review, dtype: object\n"
     ]
    }
   ],
   "source": [
    "# ------ Case Folding ------\n",
    "# gunakan fungsi Series.str.lower() pada Pandas\n",
    "\n",
    "dataSB['review'] = dataSB['review'].str.lower()\n",
    "\n",
    "print('Case Folding Result : \\n')\n",
    "print(dataSB['review'].head(5))"
   ]
  },
  {
   "cell_type": "code",
   "execution_count": 10,
   "id": "1892ae56",
   "metadata": {},
   "outputs": [],
   "source": [
    "import string\n",
    "import re #regex library\n",
    "\n",
    "# import word_tokenize & FreqDist from NLTK\n",
    "from nltk.tokenize import word_tokenize\n",
    "from nltk.probability import FreqDist"
   ]
  },
  {
   "cell_type": "code",
   "execution_count": 11,
   "id": "e199aee3",
   "metadata": {},
   "outputs": [],
   "source": [
    "dataSB['review'] = dataSB['review'].astype(str)"
   ]
  },
  {
   "cell_type": "code",
   "execution_count": 12,
   "id": "5c7a583e",
   "metadata": {},
   "outputs": [
    {
     "name": "stderr",
     "output_type": "stream",
     "text": [
      "[nltk_data] Downloading package punkt to\n",
      "[nltk_data]     C:\\Users\\acer\\AppData\\Roaming\\nltk_data...\n",
      "[nltk_data]   Package punkt is already up-to-date!\n"
     ]
    },
    {
     "name": "stdout",
     "output_type": "stream",
     "text": [
      "Tokenizing Result : \n",
      "\n",
      "0    [alhamdulillah, paketnya, sudah, sampai, dgn, ...\n",
      "1    [alhamdulillah, pesanan, saya, sudah, sampai, ...\n",
      "2    [pertama, kali, aku, kasih, bintang, di, bwh, ...\n",
      "3    [pengiriman, sangat, cepat, padahal, belinya, ...\n",
      "4    [jika, ingin, menghubungi, layanan, pln, kamu,...\n",
      "Name: textdata_tokens, dtype: object\n"
     ]
    }
   ],
   "source": [
    "# ------ Tokenizing ---------\n",
    "\n",
    "nltk.download('punkt')\n",
    "\n",
    "def remove_tweet_special(text):\n",
    "    # remove tab, new line, ans back slice\n",
    "    text = str(text)\n",
    "    text = text.replace('\\\\t',\" \").replace('\\\\n',\" \").replace('\\\\u',\" \").replace('\\\\',\"\")\n",
    "    #remove non ASCII (emoticon, chinese word, .etc)\n",
    "    text = text.encode('ascii', 'replace').decode('ascii')\n",
    "    #remove mention, link, hashtag\n",
    "    text = ' '.join(re.sub(\"([@#][A-Za-z0-9]+)|(\\w+://\\S+)\",\" \", text).split())\n",
    "    # remove incomplete URL\n",
    "    return text.replace(\"http://\", \" \").replace(\"https://\", \" \")\n",
    "                            \n",
    "dataSB['review'] = dataSB['review'].apply(remove_tweet_special)\n",
    "\n",
    "#remove number\n",
    "def remove_number(text):\n",
    "    return re.sub(r\"\\d+\", \"\", text)\n",
    "\n",
    "dataSB['review'] = dataSB['review'].apply(remove_number)\n",
    "                            \n",
    "#remove punctuation\n",
    "def remove_punctuation(text):\n",
    "    return text.translate(str.maketrans(\"\",\"\",string.punctuation))\n",
    "dataSB['review'] = dataSB['review'].apply(remove_punctuation)\n",
    "                            \n",
    "# remove whitespace leading & trailing\n",
    "def remove_whitespace_LT(text):\n",
    "    return text.strip()\n",
    "                            \n",
    "dataSB['review'] = dataSB['review'].apply(remove_whitespace_LT)\n",
    "    \n",
    "# remove multiple whitespace into single whitespace\n",
    "def remove_whitespace_multiple(text):\n",
    "    return re.sub('\\s+',' ',text)\n",
    "                            \n",
    "dataSB['review'] = dataSB['review'].apply(remove_whitespace_multiple)\n",
    "                            \n",
    "# remove single char\n",
    "def remove_singl_char(text):\n",
    "    return re.sub(r\"\\b[a-zA-Z]\\b\", \"\", text)\n",
    "                            \n",
    "dataSB['review'] = dataSB['review'].apply(remove_singl_char)\n",
    "                            \n",
    "# NLTK word tokenize\n",
    "def word_tokenize_wrapper(text):\n",
    "    return word_tokenize(text)\n",
    "\n",
    "dataSB['textdata_tokens'] = dataSB['review'].apply(word_tokenize_wrapper)\n",
    "                            \n",
    "print('Tokenizing Result : \\n')\n",
    "print(dataSB['textdata_tokens'].head())"
   ]
  },
  {
   "cell_type": "code",
   "execution_count": 13,
   "id": "a5a62443",
   "metadata": {},
   "outputs": [
    {
     "ename": "SyntaxError",
     "evalue": "unexpected EOF while parsing (3997824020.py, line 8)",
     "output_type": "error",
     "traceback": [
      "\u001b[1;36m  Input \u001b[1;32mIn [13]\u001b[1;36m\u001b[0m\n\u001b[1;33m    print(dataSB['textdata_tokens_fdist'].head().apply(lambda x : x.most_co\u001b[0m\n\u001b[1;37m                                                                           ^\u001b[0m\n\u001b[1;31mSyntaxError\u001b[0m\u001b[1;31m:\u001b[0m unexpected EOF while parsing\n"
     ]
    }
   ],
   "source": [
    "# NLTK calc frequency distribution\n",
    "def freqDist_wrapper(text):\n",
    "    return FreqDist(text)\n",
    "\n",
    "dataSB['textdata_tokens_fdist'] = dataSB['textdata_tokens'].apply(freqDist_wrapper)\n",
    "\n",
    "print('Frequency Tokens : \\n')\n",
    "print(dataSB['textdata_tokens_fdist'].head().apply(lambda x : x.most_co"
   ]
  },
  {
   "cell_type": "code",
   "execution_count": 14,
   "id": "aa2cd811",
   "metadata": {},
   "outputs": [
    {
     "name": "stderr",
     "output_type": "stream",
     "text": [
      "[nltk_data] Downloading package stopwords to\n",
      "[nltk_data]     C:\\Users\\acer\\AppData\\Roaming\\nltk_data...\n",
      "[nltk_data]   Package stopwords is already up-to-date!\n"
     ]
    },
    {
     "data": {
      "text/plain": [
       "True"
      ]
     },
     "execution_count": 14,
     "metadata": {},
     "output_type": "execute_result"
    }
   ],
   "source": [
    "nltk.download('stopwords')"
   ]
  },
  {
   "cell_type": "code",
   "execution_count": 15,
   "id": "8c27a548",
   "metadata": {},
   "outputs": [
    {
     "name": "stdout",
     "output_type": "stream",
     "text": [
      "0    [alhamdulillah, paketnya, aman, prodak, asli, ...\n",
      "1    [alhamdulillah, pesanan, ka, sesuai, pesananpe...\n",
      "2    [kali, kasih, bintang, bwh, tpi, emang, bener,...\n",
      "3    [pengiriman, cepat, belinya, pas, event, packa...\n",
      "4    [menghubungi, layanan, pln, saluran, telepon, ...\n",
      "Name: textdata_tokens_WSW, dtype: object\n"
     ]
    }
   ],
   "source": [
    "from nltk.corpus import stopwords\n",
    "\n",
    "\n",
    "# ------------- get stopword from NLTK stopword --------------------\n",
    "# get stopword indonesia\n",
    "list_stopwords = stopwords.words('indonesian')\n",
    "\n",
    "\n",
    "# ------------- manualy add stopword -------------------------------\n",
    "# append additional stopword\n",
    "list_stopwords.extend([\"yg\",\"dg\",\"rt\",\"dgn\",\"ny\",\"d\",\"klo\",\n",
    "                      'kalo','amp','biar','bikin','bilang'\n",
    "                      'gak','ga','krn','nya','nih','sih'\n",
    "                      'si','tau','tdk','tuh','utk','ya'\n",
    "                      'jd','jgn','sdh','aja','n','t'\n",
    "                      'nyg','hehe','pen','u','nan','loh','rt',\n",
    "                      '&amp','yah','bisnis','pandemi','indonesia'])\n",
    "\n",
    "# convert list to dictionary\n",
    "list_stopwords = set(list_stopwords)\n",
    "\n",
    "# remove stopwords pada list token\n",
    "def stopwords_removal(words):\n",
    "    return [word for word in words if word not in list_stopwords]\n",
    "\n",
    "dataSB['textdata_tokens_WSW'] = dataSB['textdata_tokens'].apply(stopwords_removal)\n",
    "\n",
    "print(dataSB['textdata_tokens_WSW'].head())"
   ]
  },
  {
   "cell_type": "code",
   "execution_count": 16,
   "id": "823b2b2f",
   "metadata": {},
   "outputs": [
    {
     "name": "stderr",
     "output_type": "stream",
     "text": [
      "\n",
      "Usage:   \n",
      "  pip install [options] <requirement specifier> [package-index-options] ...\n",
      "  pip install [options] -r <requirements file> [package-index-options] ...\n",
      "  pip install [options] [-e] <vcs project url> ...\n",
      "  pip install [options] [-e] <local project path> ...\n",
      "  pip install [options] <archive url/path> ...\n",
      "\n",
      "no such option: --id\n"
     ]
    }
   ],
   "source": [
    "# import file xlsx untuk proses normalisasi\n",
    "!pip install gdown --id 1gthYLVawqvPPWmH62Fys4Riy84Jo3IV3"
   ]
  },
  {
   "cell_type": "code",
   "execution_count": 17,
   "id": "8cfd2417",
   "metadata": {},
   "outputs": [
    {
     "data": {
      "text/plain": [
       "0    [alhamdulillah, paketnya, aman, prodak, asli, ...\n",
       "1    [alhamdulillah, pesanan, ka, sesuai, pesananpe...\n",
       "2    [kali, kasih, bintang, bwh, tpi, emang, bener,...\n",
       "3    [pengiriman, cepat, belinya, pas, event, packa...\n",
       "4    [menghubungi, layanan, pln, saluran, telepon, ...\n",
       "5    [alhamdulillah, berfungsi, baikk, garansinya, ...\n",
       "6    [produknya, bagus, beli, langsung, ofc, storen...\n",
       "7    [maaf, diriview, packing, aman, produknya, bag...\n",
       "8    [maaf, videonya, powerbanknya, bagus, cepat, t...\n",
       "9    [sukaa, warnanya, semoga, bertahan, yaa, semog...\n",
       "Name: textdata_normalized, dtype: object"
      ]
     },
     "execution_count": 17,
     "metadata": {},
     "output_type": "execute_result"
    }
   ],
   "source": [
    "normalizad_word = pd.read_excel('dataU.xlsx') #lokasi file\n",
    "\n",
    "normalizad_word_dict = {}\n",
    "\n",
    "for index, row in normalizad_word.iterrows():\n",
    "    if row[0] not in normalizad_word_dict:\n",
    "        normalizad_word_dict[row[0]] = row[1]\n",
    "\n",
    "def normalizad_term(document):\n",
    "    return [normalizad_word_dict[term] if term in normalizad_word_dict else term for term in document]\n",
    "\n",
    "dataSB['textdata_normalized'] = dataSB['textdata_tokens_WSW'].apply(normalizad_term)\n",
    "\n",
    "dataSB['textdata_normalized'].head(10)"
   ]
  },
  {
   "cell_type": "code",
   "execution_count": 18,
   "id": "3f0e2efa",
   "metadata": {},
   "outputs": [
    {
     "name": "stdout",
     "output_type": "stream",
     "text": [
      "4896\n"
     ]
    }
   ],
   "source": [
    "# import Sastrawi package\n",
    "from Sastrawi.Stemmer.StemmerFactory import StemmerFactory\n",
    "import swifter\n",
    "\n",
    "# create stemmer\n",
    "factory = StemmerFactory()\n",
    "stemmer = factory.create_stemmer()\n",
    "\n",
    "# stemmed\n",
    "def stemmed_wrapper(term):\n",
    "    return stemmer.stem(term)\n",
    "\n",
    "term_dict = {}\n",
    "\n",
    "for document in dataSB['textdata_normalized']:\n",
    "    for term in document:\n",
    "        if term not in term_dict:\n",
    "            term_dict[term] = ' '\n",
    "            \n",
    "print(len(term_dict))"
   ]
  },
  {
   "cell_type": "code",
   "execution_count": 19,
   "id": "a2f45fae",
   "metadata": {},
   "outputs": [],
   "source": [
    "for term in term_dict:\n",
    "    term_dict[term] = stemmed_wrapper(term)\n",
    "    \n",
    "    # untuk melihat hasilnya silahkan jalankan baris di bawah ini\n",
    "    # print(term,\":\" ,term_dict[term])"
   ]
  },
  {
   "cell_type": "code",
   "execution_count": 22,
   "id": "421dfea7",
   "metadata": {},
   "outputs": [
    {
     "data": {
      "application/vnd.jupyter.widget-view+json": {
       "model_id": "ac118af5abf44c08b45c20f8b51667a9",
       "version_major": 2,
       "version_minor": 0
      },
      "text/plain": [
       "Pandas Apply:   0%|          | 0/3003 [00:00<?, ?it/s]"
      ]
     },
     "metadata": {},
     "output_type": "display_data"
    },
    {
     "name": "stdout",
     "output_type": "stream",
     "text": [
      "0       [alhamdulillah, paket, aman, prodak, asli, ori...\n",
      "1       [alhamdulillah, pesan, ka, sesuai, pesananpeng...\n",
      "2       [kali, kasih, bintang, bwh, tpi, emang, bener,...\n",
      "3       [kirim, cepat, beli, pas, event, packagingnya,...\n",
      "4       [hubung, layan, pln, salur, telepon, tau, hand...\n",
      "                              ...                        \n",
      "2998                           [kirim, cepat, moga, awet]\n",
      "2999      [produk, oke, banget, slim, warna, hijau, mate]\n",
      "3000                                                   []\n",
      "3001    [powerbank, bagus, tidak, tebel, banget, tidak...\n",
      "3002    [paham, erti, bioteknologi, istilah, muncul, a...\n",
      "Name: textdata_tokens_stemmed, Length: 3003, dtype: object\n"
     ]
    }
   ],
   "source": [
    "# apply stemmed term to dataframe\n",
    "def get_stemmed_term(document):\n",
    "    return [term_dict[term] for term in document]\n",
    "\n",
    "dataSB['textdata_tokens_stemmed'] = dataSB['textdata_normalized'].swifter.apply(get_stemmed_term)\n",
    "\n",
    "print(dataSB['textdata_tokens_stemmed'])"
   ]
  },
  {
   "cell_type": "code",
   "execution_count": 23,
   "id": "6f9523d8",
   "metadata": {},
   "outputs": [
    {
     "name": "stdout",
     "output_type": "stream",
     "text": [
      "0    [alhamdulillah, paket, aman, prodak, asli, ori...\n",
      "1    [alhamdulillah, pesan, ka, sesuai, pesananpeng...\n",
      "2    [kali, kasih, bintang, bwh, tpi, emang, bener,...\n",
      "3    [kirim, cepat, beli, pas, event, packagingnya,...\n",
      "4    [hubung, layan, pln, salur, telepon, tau, hand...\n",
      "Name: textdata_tokens_stemmed2, dtype: object\n"
     ]
    }
   ],
   "source": [
    "#stopwords #2\n",
    "\n",
    "from nltk.corpus  import stopwords\n",
    "\n",
    "#.......................get stopworods from nLTK stopwords......................\n",
    "#get stopwords indonesia\n",
    "list_stopwords = stopwords.words('indonesian')\n",
    "\n",
    "#.......................manualy add stopword....................................\n",
    "#append additional stopwords \n",
    "list_stopwords.extend([\"sampai\",\"dengan\",\"rapih\",\"terimakasih\",\"seller\"])\n",
    "\n",
    "#convert list to dictionary \n",
    "list_stopwords = set (list_stopwords)\n",
    "\n",
    "#remove stopword pada list token\n",
    "def stopwords_removal(words):\n",
    "    return [word for word in words if word not in list_stopwords]\n",
    "\n",
    "dataSB['textdata_tokens_stemmed2'] = dataSB ['textdata_tokens_stemmed'].apply (stopwords_removal)\n",
    "\n",
    "print(dataSB['textdata_tokens_stemmed2'].head())"
   ]
  },
  {
   "cell_type": "code",
   "execution_count": 24,
   "id": "5276a557",
   "metadata": {},
   "outputs": [
    {
     "data": {
      "text/plain": [
       "['paham', 'pengertian', 'bioteknologi', 'istilah', 'muncul']"
      ]
     },
     "execution_count": 24,
     "metadata": {},
     "output_type": "execute_result"
    }
   ],
   "source": [
    "for i in range(len(dataSB)):\n",
    "        a=dataSB.iloc[i][6]\n",
    "        document.append(a)\n",
    "        \n",
    "document[0:5]"
   ]
  },
  {
   "cell_type": "code",
   "execution_count": 25,
   "id": "ee3b7f25",
   "metadata": {},
   "outputs": [
    {
     "data": {
      "text/plain": [
       "0       [alhamdulillah, paket, aman, prodak, asli, ori...\n",
       "1       [alhamdulillah, pesan, ka, sesuai, pesananpeng...\n",
       "2       [kali, kasih, bintang, bwh, tpi, emang, bener,...\n",
       "3       [kirim, cepat, beli, pas, event, packagingnya,...\n",
       "4       [hubung, layan, pln, salur, telepon, tau, hand...\n",
       "                              ...                        \n",
       "2998                           [kirim, cepat, moga, awet]\n",
       "2999      [produk, oke, banget, slim, warna, hijau, mate]\n",
       "3000                                                   []\n",
       "3001    [powerbank, bagus, tebel, banget, ngehabisin, ...\n",
       "3002    [paham, erti, bioteknologi, istilah, muncul, a...\n",
       "Name: textdata_tokens_stemmed2, Length: 3003, dtype: object"
      ]
     },
     "execution_count": 25,
     "metadata": {},
     "output_type": "execute_result"
    }
   ],
   "source": [
    "doc_clean = dataSB['textdata_tokens_stemmed2']\n",
    "doc_clean"
   ]
  },
  {
   "cell_type": "code",
   "execution_count": 27,
   "id": "97b57dd3",
   "metadata": {},
   "outputs": [
    {
     "name": "stdout",
     "output_type": "stream",
     "text": [
      "Requirement already satisfied: numpy==1.24.1 in c:\\users\\acer\\anaconda3\\lib\\site-packages (1.24.1)\n"
     ]
    }
   ],
   "source": [
    "!pip install numpy==1.24.1"
   ]
  },
  {
   "cell_type": "markdown",
   "id": "857f438e",
   "metadata": {},
   "source": [
    "# LDA"
   ]
  },
  {
   "cell_type": "code",
   "execution_count": 28,
   "id": "f95b8101",
   "metadata": {},
   "outputs": [
    {
     "name": "stdout",
     "output_type": "stream",
     "text": [
      "Dictionary<4372 unique tokens: ['alhamdulillah', 'aman', 'asli', 'awer', 'banget']...>\n"
     ]
    }
   ],
   "source": [
    "import gensim\n",
    "from gensim import corpora\n",
    "\n",
    "dictionary = corpora.Dictionary(doc_clean)\n",
    "print(dictionary)\n",
    "\n",
    "doc_term_matrix = [dictionary.doc2bow(doc) for doc in doc_clean]"
   ]
  },
  {
   "cell_type": "code",
   "execution_count": 29,
   "id": "d1d14961",
   "metadata": {},
   "outputs": [],
   "source": [
    "# Creating the object for LDA model using gensim library\n",
    "Lda = gensim.models.ldamodel.LdaModel\n",
    "\n",
    "total_topics = 3 # jumlah topik yang akan di extract\n",
    "number_words = 10 # jumlah kata per topik"
   ]
  },
  {
   "cell_type": "code",
   "execution_count": 30,
   "id": "b1b6ad3c",
   "metadata": {},
   "outputs": [
    {
     "data": {
      "text/plain": [
       "[(0,\n",
       "  '0.061*\"kirim\" + 0.060*\"barang\" + 0.058*\"produk\" + 0.055*\"cepat\" + 0.039*\"sesuai\" + 0.030*\"moga\" + 0.027*\"bagus\" + 0.027*\"kualitas\" + 0.026*\"terima\" + 0.022*\"original\"'),\n",
       " (1,\n",
       "  '0.032*\"moga\" + 0.029*\"awet\" + 0.026*\"bagus\" + 0.025*\"warna\" + 0.020*\"coba\" + 0.016*\"cepet\" + 0.014*\"banget\" + 0.011*\"udah\" + 0.010*\"pas\" + 0.010*\"beli\"'),\n",
       " (2,\n",
       "  '0.043*\"barang\" + 0.035*\"bagus\" + 0.025*\"banget\" + 0.019*\"awet\" + 0.018*\"aman\" + 0.016*\"moga\" + 0.015*\"kirim\" + 0.011*\"pokok\" + 0.011*\"beli\" + 0.011*\"mudah\"')]"
      ]
     },
     "execution_count": 30,
     "metadata": {},
     "output_type": "execute_result"
    }
   ],
   "source": [
    "# Running and Training LDA model on the document term matrix.\n",
    "lda_model = Lda(doc_term_matrix, num_topics=total_topics, id2word = dictionary, passes=50)\n",
    "\n",
    "lda_model.show_topics(num_topics=total_topics, num_words=number_words)"
   ]
  },
  {
   "cell_type": "code",
   "execution_count": 31,
   "id": "6f7cbcfc",
   "metadata": {},
   "outputs": [
    {
     "name": "stdout",
     "output_type": "stream",
     "text": [
      "        word  topic_id  importance  word_count\n",
      "0      kirim         0    0.060923         934\n",
      "1     barang         0    0.060147        1157\n",
      "2     produk         0    0.057985         664\n",
      "3      cepat         0    0.054967         618\n",
      "4     sesuai         0    0.039296         465\n",
      "5       moga         0    0.029516         856\n",
      "6      bagus         0    0.027122         927\n",
      "7   kualitas         0    0.026640         299\n",
      "8     terima         0    0.026022         298\n",
      "9   original         0    0.022252         261\n",
      "10      moga         1    0.032146         856\n",
      "11      awet         1    0.029139         771\n",
      "12     bagus         1    0.026462         927\n",
      "13     warna         1    0.024844         357\n",
      "14      coba         1    0.020416         260\n",
      "15     cepet         1    0.015916         192\n",
      "16    banget         1    0.014211         415\n",
      "17      udah         1    0.011343         192\n",
      "18       pas         1    0.009745         134\n",
      "19      beli         1    0.009624         241\n",
      "20    barang         2    0.043393        1157\n",
      "21     bagus         2    0.034607         927\n",
      "22    banget         2    0.024990         415\n",
      "23      awet         2    0.018611         771\n",
      "24      aman         2    0.017848         395\n",
      "25      moga         2    0.015907         856\n",
      "26     kirim         2    0.014974         934\n",
      "27     pokok         2    0.011121         107\n",
      "28      beli         2    0.011049         241\n",
      "29     mudah         2    0.010943         104\n"
     ]
    }
   ],
   "source": [
    "# Word Count of Topic Keywords\n",
    "\n",
    "from collections import Counter\n",
    "topics = lda_model.show_topics(formatted=False)\n",
    "data_flat = [w for w_list in doc_clean for w in w_list]\n",
    "counter = Counter(data_flat)\n",
    "\n",
    "out =[]\n",
    "for i, topic in topics:\n",
    "    for word, weight in topic:\n",
    "        out.append([word, i , weight, counter[word]])\n",
    "        \n",
    "df_imp_wcount = pd.DataFrame(out, columns=['word', 'topic_id', 'importance', 'word_count'])\n",
    "print(df_imp_wcount)"
   ]
  },
  {
   "cell_type": "code",
   "execution_count": 32,
   "id": "077f3549",
   "metadata": {},
   "outputs": [],
   "source": [
    "# Dominant topic and its percentage contribution in each topic\n",
    "def format_topics_sentences(ldamodel=None, corpus=doc_term_matrix, text=document):\n",
    "    # Init output\n",
    "    sent_topics_df = pd.DataFrame()\n",
    "\n",
    "    # Get main topic in each document\n",
    "    for i, row_list in enumerate(ldamodel[corpus]):\n",
    "        row = row_list[0] if ldmodel.per_word_topics else row_list \n",
    "        #print(row)\n",
    "        row = sorted(row,key=lambda x:(x[1]), reverse=True)\n",
    "        # Get the dominant topic, perc contribution and keywords for each document \n",
    "        for j, (topic_num, prop_topic) in enumerate (row):\n",
    "            if j ==0: # => dominant topic \n",
    "                wp = ldmodel.show_topic (topic_num)\n",
    "                topic_keywords = \", \".join ([word for word, prop in wp])\n",
    "                sent_topics_df = sent_topics_df. append(pd.series([int(topic_num), round (prop_topic,4), topic_keywords]), ignore_index=true)\n",
    "            else:\n",
    "                break\n",
    "    sent_topics_df.colums=['Dominant_topics','Perc_Contribution', 'Topic_keywords']\n",
    "\n",
    "    # add original text to the end of the output \n",
    "    contents=pd.series (texts)\n",
    "    sent_topic_df= pd.concat ([sent_topic_df, contents], axis=1)\n",
    "    return(sent_topics_df)"
   ]
  },
  {
   "cell_type": "code",
   "execution_count": 33,
   "id": "9b4553a5",
   "metadata": {},
   "outputs": [
    {
     "ename": "TypeError",
     "evalue": "format_topics_sentences() got an unexpected keyword argument 'texts'",
     "output_type": "error",
     "traceback": [
      "\u001b[1;31m---------------------------------------------------------------------------\u001b[0m",
      "\u001b[1;31mTypeError\u001b[0m                                 Traceback (most recent call last)",
      "Input \u001b[1;32mIn [33]\u001b[0m, in \u001b[0;36m<cell line: 1>\u001b[1;34m()\u001b[0m\n\u001b[1;32m----> 1\u001b[0m df_topic_sents_keywords \u001b[38;5;241m=\u001b[39m \u001b[43mformat_topics_sentences\u001b[49m\u001b[43m(\u001b[49m\u001b[43mldamodel\u001b[49m\u001b[38;5;241;43m=\u001b[39;49m\u001b[43mlda_model\u001b[49m\u001b[43m,\u001b[49m\u001b[43m \u001b[49m\u001b[43mcorpus\u001b[49m\u001b[38;5;241;43m=\u001b[39;49m\u001b[43mdoc_term_matrix\u001b[49m\u001b[43m,\u001b[49m\u001b[43m \u001b[49m\u001b[43mtexts\u001b[49m\u001b[38;5;241;43m=\u001b[39;49m\u001b[43mdoc_clean\u001b[49m\u001b[43m)\u001b[49m\n\u001b[0;32m      3\u001b[0m \u001b[38;5;66;03m# Format\u001b[39;00m\n\u001b[0;32m      4\u001b[0m df_dominant_topic \u001b[38;5;241m=\u001b[39m df_topics_sents_keywords\u001b[38;5;241m.\u001b[39mreset_index()\n",
      "\u001b[1;31mTypeError\u001b[0m: format_topics_sentences() got an unexpected keyword argument 'texts'"
     ]
    }
   ],
   "source": [
    "df_topic_sents_keywords = format_topics_sentences(ldamodel=lda_model, corpus=doc_term_matrix, texts=doc_clean)\n",
    "\n",
    "# Format\n",
    "df_dominant_topic = df_topics_sents_keywords.reset_index()\n",
    "df_dominant_topic.columns = ['Document_No', 'Dominant_Topic', 'Topic_Perc_Contrib', 'Keywords', 'Text']\n",
    "print(df_dominant_topic.head(10))"
   ]
  },
  {
   "cell_type": "code",
   "execution_count": 34,
   "id": "e83541f1",
   "metadata": {},
   "outputs": [
    {
     "ename": "NameError",
     "evalue": "name 'df_dominant_topic' is not defined",
     "output_type": "error",
     "traceback": [
      "\u001b[1;31m---------------------------------------------------------------------------\u001b[0m",
      "\u001b[1;31mNameError\u001b[0m                                 Traceback (most recent call last)",
      "Input \u001b[1;32mIn [34]\u001b[0m, in \u001b[0;36m<cell line: 2>\u001b[1;34m()\u001b[0m\n\u001b[0;32m      1\u001b[0m \u001b[38;5;66;03m# simpan \u001b[39;00m\n\u001b[1;32m----> 2\u001b[0m \u001b[43mdf_dominant_topic\u001b[49m\u001b[38;5;241m.\u001b[39mto_csv(\u001b[38;5;124m'\u001b[39m\u001b[38;5;124mdf_dominant_topic.csv\u001b[39m\u001b[38;5;124m'\u001b[39m)\n",
      "\u001b[1;31mNameError\u001b[0m: name 'df_dominant_topic' is not defined"
     ]
    }
   ],
   "source": [
    "# simpan \n",
    "df_dominant_topic.to_csv('df_dominant_topic.csv')"
   ]
  },
  {
   "cell_type": "code",
   "execution_count": 35,
   "id": "c6ea96fc",
   "metadata": {},
   "outputs": [],
   "source": [
    "import pyLDAvis.gensim\n",
    "import pickle\n",
    "import pyLDAvis\n",
    "# Visualize the topics\n",
    "pyLDAvis.enable_notebook()"
   ]
  },
  {
   "cell_type": "code",
   "execution_count": 37,
   "id": "d0c2af80",
   "metadata": {},
   "outputs": [],
   "source": [
    "import os\n",
    "LDAvis_data_filepath = os.path.join('ldavisprepared'+str(total_topics))"
   ]
  },
  {
   "cell_type": "code",
   "execution_count": 38,
   "id": "d3e3626f",
   "metadata": {},
   "outputs": [],
   "source": [
    "corpus = [dictionary.doc2bow(text) for text in doc_clean]"
   ]
  },
  {
   "cell_type": "code",
   "execution_count": 39,
   "id": "33b720fd",
   "metadata": {},
   "outputs": [],
   "source": [
    "# proses ini mungkin agak lama\n",
    "if 1 == 1:\n",
    "    LDAvis_prepared = pyLDAvis.gensim.prepare(lda_model, corpus, dictionary)\n",
    "    with open(LDAvis_data_filepath, 'wb') as f:\n",
    "        pickle.dump(LDAvis_prepared, f)"
   ]
  },
  {
   "cell_type": "code",
   "execution_count": 40,
   "id": "5a14cd0f",
   "metadata": {},
   "outputs": [],
   "source": [
    "# load the pre-prepared pyLDAvis data from disk\n",
    "with open(LDAvis_data_filepath, 'rb') as f:\n",
    "    LDAvis_prepared = pickle.load(f)"
   ]
  },
  {
   "cell_type": "code",
   "execution_count": 41,
   "id": "d930c91d",
   "metadata": {},
   "outputs": [
    {
     "data": {
      "text/html": [
       "\n",
       "<link rel=\"stylesheet\" type=\"text/css\" href=\"https://cdn.jsdelivr.net/gh/bmabey/pyLDAvis/pyLDAvis/js/ldavis.v1.0.0.css\">\n",
       "\n",
       "\n",
       "<div id=\"ldavis_el1094023731368589127708924609\"></div>\n",
       "<script type=\"text/javascript\">\n",
       "\n",
       "var ldavis_el1094023731368589127708924609_data = {\"mdsDat\": {\"x\": [-0.1462623545093388, 0.20229406186292997, -0.05603170735359121], \"y\": [0.09337714211817008, 0.03261571614953638, -0.12599285826770654], \"topics\": [1, 2, 3], \"cluster\": [1, 1, 1], \"Freq\": [38.43748505375515, 33.45671123633168, 28.105803709913175]}, \"tinfo\": {\"Term\": [\"produk\", \"cepat\", \"sesuai\", \"barang\", \"kualitas\", \"kirim\", \"terima\", \"original\", \"coba\", \"pesan\", \"warna\", \"banget\", \"kasih\", \"cepet\", \"harga\", \"pokok\", \"mudah\", \"bank\", \"power\", \"packing\", \"respon\", \"pas\", \"beli\", \"jual\", \"suka\", \"udah\", \"deh\", \"aman\", \"ori\", \"makasih\", \"dapet\", \"kabel\", \"cas\", \"udh\", \"hp\", \"sale\", \"cantik\", \"lucu\", \"flash\", \"blm\", \"coba\", \"diskon\", \"dateng\", \"cepet\", \"lampu\", \"full\", \"dipake\", \"it\", \"mah\", \"ungu\", \"bintang\", \"jam\", \"charge\", \"model\", \"tgl\", \"type\", \"worth\", \"desain\", \"charger\", \"mantab\", \"pas\", \"warna\", \"isi\", \"merk\", \"powerbank\", \"udah\", \"langsung\", \"nyampe\", \"promo\", \"moga\", \"awet\", \"sampe\", \"berat\", \"bagus\", \"beli\", \"banget\", \"ya\", \"robot\", \"bgt\", \"sih\", \"fungsi\", \"alhamdulillah\", \"jg\", \"lumayan\", \"harga\", \"suka\", \"kirim\", \"makasih\", \"paket\", \"barang\", \"produk\", \"kualitas\", \"original\", \"pesan\", \"terima\", \"sesuai\", \"respon\", \"jual\", \"cepat\", \"jangkau\", \"gambar\", \"deskripsi\", \"kasih\", \"ekspektasi\", \"lambat\", \"kondisi\", \"bagusssssssssssssssssssssssss\", \"rekomen\", \"jasa\", \"laris\", \"online\", \"ekspedisi\", \"pes\", \"baikpengiriman\", \"standar\", \"ok\", \"blom\", \"mohon\", \"lucuu\", \"sellernya\", \"kirim\", \"packing\", \"harga\", \"barang\", \"tanggal\", \"foto\", \"rapi\", \"oke\", \"toko\", \"emas\", \"lumayan\", \"ramah\", \"layan\", \"moga\", \"bagus\", \"aman\", \"awet\", \"fungsi\", \"ori\", \"selamat\", \"bank\", \"power\", \"puas\", \"wrap\", \"nyesel\", \"bubble\", \"belanja\", \"darat\", \"official\", \"packingnya\", \"muas\", \"pokok\", \"top\", \"mantul\", \"mudah\", \"buble\", \"cpt\", \"store\", \"manfaat\", \"pict\", \"gan\", \"bngt\", \"anjay\", \"tuju\", \"packagingnya\", \"jga\", \"capacity\", \"pke\", \"rekomendasi\", \"markotop\", \"real\", \"deh\", \"banget\", \"ori\", \"mantap\", \"suka\", \"gk\", \"aman\", \"barang\", \"makasih\", \"bagus\", \"selamat\", \"beli\", \"alhamdulillah\", \"paket\", \"kurir\", \"awet\", \"bgt\", \"ya\", \"moga\", \"sih\", \"kirim\", \"fungsi\", \"robot\", \"emas\", \"udah\"], \"Freq\": [570.0, 545.0, 388.0, 1010.0, 262.0, 820.0, 257.0, 219.0, 234.0, 180.0, 307.0, 367.0, 182.0, 183.0, 284.0, 94.0, 93.0, 84.0, 84.0, 177.0, 84.0, 115.0, 200.0, 78.0, 150.0, 172.0, 111.0, 318.0, 118.0, 135.0, 67.39112880457238, 59.75427991056746, 60.40559237024261, 55.98862870229595, 51.84224256441646, 45.77766552324069, 44.854093098988386, 39.51581252055435, 38.59359655912571, 39.72434239165433, 230.50404308264496, 37.86918494879594, 30.96055943080746, 179.70099825417904, 29.35572195499455, 30.70510540970263, 30.255285513028692, 28.626702051389795, 29.984035009157523, 27.01799760500786, 26.03185701861183, 24.23659161550473, 23.773751253005916, 23.73292855690366, 23.487884599329316, 21.69242992233984, 23.02572509704626, 22.571625507587566, 21.443010320637594, 24.116468420296236, 110.02476061011559, 280.5059125974594, 65.73003492483208, 24.08363203050853, 100.70917330444699, 128.07423348962797, 44.18068291354624, 42.97854928171613, 28.659867041667734, 362.94671777743025, 329.0018770432556, 87.3767946366378, 53.723256922650066, 298.77673076719077, 108.6596437639353, 160.44631341344405, 105.37738227841963, 80.09092786945347, 74.5898507217477, 72.1168717811784, 98.43781310946717, 74.26552466669457, 47.744710118620446, 68.38211427659635, 80.74476923850142, 63.9153084862916, 98.26608912207688, 59.634164601770735, 56.00343412598375, 60.743041414473566, 569.8528547415731, 261.81016727933996, 218.68385238687839, 180.05034972192084, 255.7344788626374, 386.18345890031173, 84.10314099586627, 77.28735165277813, 540.1919980854609, 54.09442445675997, 53.65750021578979, 32.70566831308222, 175.73022954110178, 19.732121101859835, 15.426150905362103, 36.36475266425564, 8.092298007101526, 8.255701838415183, 8.062669189268258, 8.44491783590493, 8.43404449737081, 8.987813652533925, 7.058302890270776, 7.007010341186157, 27.43603018371435, 70.35486612592734, 6.394297028340339, 6.003954014055424, 5.808645789325126, 6.136717088569753, 598.7276825144274, 135.23029268936529, 203.84452769093073, 591.0960998967406, 11.52260864265012, 31.802371205945295, 67.92139374144331, 89.1748944318192, 36.77028105547273, 129.56569518197247, 93.68605770626006, 42.28183723826198, 20.805934215078658, 290.06689884185243, 266.53959360430537, 128.71413338297035, 215.24073834944264, 87.67172860061197, 42.39438727526036, 36.91875521178628, 83.54358408897201, 83.52979804944107, 49.41782328095486, 45.565763176201685, 43.39887532804355, 43.410600766016046, 36.92886707615691, 31.110693220987727, 29.828818364558085, 28.51339530010648, 28.66916101586075, 91.81666099296271, 22.237116272163746, 21.185463662613707, 90.34623724952947, 17.73324291492552, 20.017658095626967, 16.469292600970217, 17.502180665358374, 16.230185932072764, 14.039476222801005, 12.980400065472317, 10.86445636200025, 11.055223471203888, 11.24498046275924, 11.01910720004566, 10.190801117436278, 9.357084994634503, 10.166184425404353, 8.90669266118302, 40.8292206077332, 77.58875313753784, 206.31577808109628, 76.21484704844474, 76.87838381669933, 85.94815233144143, 27.138889483694136, 147.35171061906786, 358.2427161529723, 75.62019434497412, 285.7096643167025, 74.57766835501317, 91.21646465619494, 84.11088768892252, 60.40907968251143, 42.95953277822893, 153.65032372304378, 59.64352391508436, 69.96614202176683, 131.32129155039334, 54.813320085853945, 123.62173849508743, 74.99164935915417, 55.406738735033024, 59.583086010046465, 43.78802915893], \"Total\": [570.0, 545.0, 388.0, 1010.0, 262.0, 820.0, 257.0, 219.0, 234.0, 180.0, 307.0, 367.0, 182.0, 183.0, 284.0, 94.0, 93.0, 84.0, 84.0, 177.0, 84.0, 115.0, 200.0, 78.0, 150.0, 172.0, 111.0, 318.0, 118.0, 135.0, 68.04022684349498, 60.385909792918106, 61.058304672278354, 56.65725256670565, 52.48839618245807, 46.440793233394324, 45.50527150022272, 40.17817348663103, 39.2427390793579, 40.395147647593035, 234.51168221655632, 38.542989437981745, 31.59890758648143, 183.44087408648676, 29.968241529553662, 31.348167414560013, 30.891233513950482, 29.267697681321135, 30.658690092071396, 27.646407678834393, 26.703760080517938, 24.868429870277097, 24.400860438729655, 24.38665488022242, 24.15708353145875, 22.310623211718212, 23.688401741336857, 23.22222395065111, 22.069883101468605, 24.824590133034846, 115.25602754974746, 307.8140728442167, 69.65272357530105, 24.847040801702477, 130.16182089604223, 172.19221374313037, 52.23017666304316, 50.979062535551165, 30.775476075725557, 784.3349081696759, 697.892939115742, 129.18216187082896, 69.86541792430795, 851.0259886881987, 200.8039120833824, 367.09139779264393, 204.11122268818627, 135.82286822873428, 134.55298292432587, 127.25297873118592, 261.1011910692333, 183.7481923039515, 64.70372254734927, 162.65505838573552, 284.9346331530216, 150.19101803167547, 820.6155101315918, 135.5966439055263, 116.82611965642457, 1010.0818574641866, 570.5593852356787, 262.5184513680824, 219.3952292016843, 180.7893918512977, 257.0540757023489, 388.8251456646847, 84.789341703818, 78.02559172664922, 545.6736988135033, 54.802757235017246, 54.37921618311744, 33.42505598700305, 182.02410129630158, 20.46517522757408, 16.144213125155847, 38.51530175728163, 8.743910511535017, 8.95971638712277, 8.755875287021656, 9.173016301723584, 9.173324228663285, 9.792446385317005, 7.732992943911596, 7.727034698100391, 30.446792538500954, 78.13423864352927, 7.110990595329417, 6.70167880716789, 6.489635898879662, 6.907158422219381, 820.6155101315918, 177.0357574016746, 284.9346331530216, 1010.0818574641866, 13.55468292713103, 43.502961322093476, 104.79799001226876, 144.16637653398632, 52.42155034253183, 237.58362068902443, 162.65505838573552, 65.52632247008597, 27.591276086166758, 784.3349081696759, 851.0259886881987, 318.80087403245466, 697.892939115742, 261.1011910692333, 118.97511589502875, 141.65697224409286, 84.21189506940233, 84.21273003126744, 50.11507711801647, 46.240503549848874, 44.065271862413134, 44.094489311172275, 37.61681296263583, 31.787768211745867, 30.492437376623027, 29.20673379866686, 29.40519694777284, 94.25162684293429, 22.93267889746552, 21.85912681031021, 93.24359804840937, 18.408616136205655, 20.80500704524821, 17.123734854315387, 18.198447121501538, 16.901479067734574, 14.743969045021581, 13.675168172448585, 11.497982435356166, 11.728628549374465, 11.945605160128292, 11.73382831144941, 10.859752533917572, 10.000308054173974, 10.873143965705156, 9.56475150560495, 44.48342633610883, 111.07330624840557, 367.09139779264393, 118.97511589502875, 123.97798304447568, 150.19101803167547, 36.02326057132662, 318.80087403245466, 1010.0818574641866, 135.5966439055263, 851.0259886881987, 141.65697224409286, 200.8039120833824, 183.7481923039515, 116.82611965642457, 73.70457374570117, 697.892939115742, 134.55298292432587, 204.11122268818627, 784.3349081696759, 127.25297873118592, 820.6155101315918, 261.1011910692333, 135.82286822873428, 237.58362068902443, 172.19221374313037], \"Category\": [\"Default\", \"Default\", \"Default\", \"Default\", \"Default\", \"Default\", \"Default\", \"Default\", \"Default\", \"Default\", \"Default\", \"Default\", \"Default\", \"Default\", \"Default\", \"Default\", \"Default\", \"Default\", \"Default\", \"Default\", \"Default\", \"Default\", \"Default\", \"Default\", \"Default\", \"Default\", \"Default\", \"Default\", \"Default\", \"Default\", \"Topic1\", \"Topic1\", \"Topic1\", \"Topic1\", \"Topic1\", \"Topic1\", \"Topic1\", \"Topic1\", \"Topic1\", \"Topic1\", \"Topic1\", \"Topic1\", \"Topic1\", \"Topic1\", \"Topic1\", \"Topic1\", \"Topic1\", \"Topic1\", \"Topic1\", \"Topic1\", \"Topic1\", \"Topic1\", \"Topic1\", \"Topic1\", \"Topic1\", \"Topic1\", \"Topic1\", \"Topic1\", \"Topic1\", \"Topic1\", \"Topic1\", \"Topic1\", \"Topic1\", \"Topic1\", \"Topic1\", \"Topic1\", \"Topic1\", \"Topic1\", \"Topic1\", \"Topic1\", \"Topic1\", \"Topic1\", \"Topic1\", \"Topic1\", \"Topic1\", \"Topic1\", \"Topic1\", \"Topic1\", \"Topic1\", \"Topic1\", \"Topic1\", \"Topic1\", \"Topic1\", \"Topic1\", \"Topic1\", \"Topic1\", \"Topic1\", \"Topic1\", \"Topic1\", \"Topic1\", \"Topic2\", \"Topic2\", \"Topic2\", \"Topic2\", \"Topic2\", \"Topic2\", \"Topic2\", \"Topic2\", \"Topic2\", \"Topic2\", \"Topic2\", \"Topic2\", \"Topic2\", \"Topic2\", \"Topic2\", \"Topic2\", \"Topic2\", \"Topic2\", \"Topic2\", \"Topic2\", \"Topic2\", \"Topic2\", \"Topic2\", \"Topic2\", \"Topic2\", \"Topic2\", \"Topic2\", \"Topic2\", \"Topic2\", \"Topic2\", \"Topic2\", \"Topic2\", \"Topic2\", \"Topic2\", \"Topic2\", \"Topic2\", \"Topic2\", \"Topic2\", \"Topic2\", \"Topic2\", \"Topic2\", \"Topic2\", \"Topic2\", \"Topic2\", \"Topic2\", \"Topic2\", \"Topic2\", \"Topic2\", \"Topic2\", \"Topic2\", \"Topic3\", \"Topic3\", \"Topic3\", \"Topic3\", \"Topic3\", \"Topic3\", \"Topic3\", \"Topic3\", \"Topic3\", \"Topic3\", \"Topic3\", \"Topic3\", \"Topic3\", \"Topic3\", \"Topic3\", \"Topic3\", \"Topic3\", \"Topic3\", \"Topic3\", \"Topic3\", \"Topic3\", \"Topic3\", \"Topic3\", \"Topic3\", \"Topic3\", \"Topic3\", \"Topic3\", \"Topic3\", \"Topic3\", \"Topic3\", \"Topic3\", \"Topic3\", \"Topic3\", \"Topic3\", \"Topic3\", \"Topic3\", \"Topic3\", \"Topic3\", \"Topic3\", \"Topic3\", \"Topic3\", \"Topic3\", \"Topic3\", \"Topic3\", \"Topic3\", \"Topic3\", \"Topic3\", \"Topic3\", \"Topic3\", \"Topic3\", \"Topic3\", \"Topic3\", \"Topic3\", \"Topic3\", \"Topic3\", \"Topic3\"], \"logprob\": [30.0, 29.0, 28.0, 27.0, 26.0, 25.0, 24.0, 23.0, 22.0, 21.0, 20.0, 19.0, 18.0, 17.0, 16.0, 15.0, 14.0, 13.0, 12.0, 11.0, 10.0, 9.0, 8.0, 7.0, 6.0, 5.0, 4.0, 3.0, 2.0, 1.0, -5.1212, -5.2415, -5.2306, -5.3066, -5.3835, -5.5079, -5.5283, -5.655, -5.6786, -5.6498, -3.8915, -5.6976, -5.899, -4.1404, -5.9522, -5.9073, -5.9221, -5.9774, -5.9311, -6.0352, -6.0724, -6.1439, -6.1631, -6.1649, -6.1752, -6.2548, -6.1951, -6.215, -6.2663, -6.1488, -4.631, -3.6951, -5.1462, -6.1502, -4.7195, -4.4791, -5.5434, -5.571, -5.9762, -3.4375, -3.5357, -4.8615, -5.3479, -3.632, -4.6435, -4.2538, -4.6742, -4.9486, -5.0197, -5.0534, -4.7423, -5.0241, -5.4659, -5.1066, -4.9404, -5.1742, -4.744, -5.2435, -5.3063, -5.2251, -2.8476, -3.6253, -3.8053, -3.9997, -3.6488, -3.2366, -4.7609, -4.8454, -2.901, -5.2022, -5.2103, -5.7054, -4.024, -6.2107, -6.4569, -5.5993, -7.102, -7.082, -7.1057, -7.0594, -7.0607, -6.9971, -7.2387, -7.246, -5.8811, -4.9394, -7.3375, -7.4005, -7.4336, -7.3787, -2.7981, -4.286, -3.8756, -2.811, -6.7486, -5.7334, -4.9746, -4.7023, -5.5883, -4.3288, -4.653, -5.4486, -6.1577, -3.5228, -3.6074, -4.3354, -3.8212, -4.7193, -5.4459, -5.5842, -4.5933, -4.5935, -5.1184, -5.1995, -5.2482, -5.248, -5.4097, -5.5811, -5.6232, -5.6683, -5.6628, -4.4989, -5.9169, -5.9654, -4.515, -6.1432, -6.0221, -6.2172, -6.1563, -6.2318, -6.3768, -6.4552, -6.6332, -6.6158, -6.5987, -6.619, -6.6972, -6.7825, -6.6996, -6.8319, -5.3093, -4.6672, -3.6893, -4.6851, -4.6764, -4.5649, -5.7177, -4.0258, -3.1375, -4.6929, -3.3637, -4.7068, -4.5054, -4.5865, -4.9175, -5.2584, -3.984, -4.9303, -4.7707, -4.141, -5.0147, -4.2014, -4.7013, -5.004, -4.9313, -5.2393], \"loglift\": [30.0, 29.0, 28.0, 27.0, 26.0, 25.0, 24.0, 23.0, 22.0, 21.0, 20.0, 19.0, 18.0, 17.0, 16.0, 15.0, 14.0, 13.0, 12.0, 11.0, 10.0, 9.0, 8.0, 7.0, 6.0, 5.0, 4.0, 3.0, 2.0, 1.0, 0.9466, 0.9456, 0.9454, 0.9443, 0.9438, 0.9418, 0.9417, 0.9395, 0.9395, 0.9394, 0.9389, 0.9385, 0.9357, 0.9355, 0.9355, 0.9354, 0.9353, 0.934, 0.9339, 0.9331, 0.9307, 0.9304, 0.9301, 0.929, 0.928, 0.928, 0.9278, 0.9277, 0.9273, 0.9272, 0.9097, 0.8632, 0.8982, 0.9249, 0.6996, 0.6601, 0.7888, 0.7854, 0.8849, 0.1856, 0.2041, 0.5651, 0.6934, -0.0906, 0.342, 0.1285, 0.295, 0.4279, 0.3662, 0.3882, -0.0193, 0.0502, 0.6522, 0.0896, -0.3048, 0.1018, -1.1662, 0.1347, 0.2209, -1.855, 1.0937, 1.0922, 1.0917, 1.0908, 1.0898, 1.0881, 1.0868, 1.0854, 1.0848, 1.0819, 1.0816, 1.0732, 1.0597, 1.0584, 1.0494, 1.0375, 1.0175, 1.0131, 1.0124, 1.0122, 1.0109, 1.0092, 1.0036, 0.9971, 0.9908, 0.99, 0.9887, 0.985, 0.9841, 0.9766, 0.7797, 0.8255, 0.76, 0.5591, 0.9325, 0.7816, 0.6612, 0.6145, 0.7403, 0.4886, 0.5432, 0.6568, 0.8127, 0.1002, -0.066, 0.1879, -0.0814, 0.0036, 0.063, -0.2498, 1.2612, 1.2611, 1.2552, 1.2545, 1.254, 1.2536, 1.2507, 1.2477, 1.2472, 1.2452, 1.2438, 1.243, 1.2384, 1.2379, 1.2376, 1.2318, 1.2306, 1.2302, 1.2302, 1.2287, 1.2202, 1.2171, 1.2125, 1.2101, 1.2088, 1.2063, 1.2056, 1.2027, 1.202, 1.1979, 1.1835, 0.9104, 0.693, 0.8238, 0.7913, 0.711, 0.986, 0.4974, 0.2326, 0.6852, 0.1777, 0.6276, 0.4801, 0.4878, 0.6096, 0.7294, -0.2442, 0.4556, 0.1985, -0.518, 0.427, -0.6236, 0.0217, 0.3725, -0.114, -0.1001]}, \"token.table\": {\"Topic\": [1, 2, 3, 1, 2, 3, 3, 1, 2, 3, 1, 2, 3, 2, 2, 1, 3, 3, 1, 2, 3, 3, 1, 2, 3, 1, 3, 1, 3, 1, 1, 2, 3, 3, 3, 1, 3, 1, 2, 3, 1, 2, 1, 1, 1, 2, 3, 1, 3, 1, 1, 3, 1, 2, 1, 1, 2, 2, 1, 2, 3, 1, 1, 2, 1, 1, 2, 3, 2, 3, 1, 3, 1, 2, 1, 1, 3, 1, 1, 2, 2, 1, 3, 3, 2, 1, 1, 2, 1, 2, 3, 1, 2, 2, 1, 2, 3, 2, 1, 1, 2, 2, 1, 2, 3, 1, 2, 1, 2, 3, 1, 1, 3, 3, 1, 1, 2, 3, 3, 3, 1, 1, 1, 2, 3, 2, 3, 1, 2, 3, 1, 3, 3, 3, 2, 3, 1, 2, 3, 2, 2, 3, 2, 3, 1, 2, 3, 3, 1, 3, 1, 2, 3, 2, 2, 3, 3, 2, 3, 3, 1, 3, 2, 1, 3, 3, 2, 3, 2, 3, 1, 3, 2, 3, 2, 1, 3, 1, 1, 3, 1, 2, 3, 2, 2, 3, 1, 3, 2, 3, 3, 1, 3, 1, 2, 3, 1, 2, 1, 2, 3, 3, 3, 1, 1, 3, 1, 1, 1, 2, 3, 1, 3, 1, 2, 3], \"Freq\": [0.4027250503645288, 0.13605576025828678, 0.45714735446784355, 0.13488043321870724, 0.4046412996561217, 0.4611028763523248, 0.9566895811368719, 0.4714190122296638, 0.3080701751652818, 0.22066421849048093, 0.35134062176043424, 0.31373894986634093, 0.3360649425534588, 0.9149224468212883, 0.905910258397167, 0.43585875605392954, 0.5611681484194343, 0.9974837869492463, 0.06039114508317244, 0.585101094166474, 0.35442672032419237, 0.9836027320217559, 0.5428181098122159, 0.004979982658827669, 0.4531784219533178, 0.7729145778316747, 0.22901172676494067, 0.5574012435100072, 0.44592099480800573, 0.973645655952722, 0.9902179427331149, 0.8437642997223018, 0.9506281631103558, 0.9751785466104727, 0.9778029954461379, 0.9888964182925434, 0.9208312959957088, 0.9826673099104429, 0.9896023964031252, 0.009162985151880788, 0.9812425987194954, 0.01635404331199159, 0.9835718728142308, 0.9515229375457176, 0.985025555301277, 0.017056719572316484, 0.96130705250436, 0.9847115906023111, 0.975217882347123, 0.9810465730550237, 0.29710108679216257, 0.7022389324178389, 0.9904305482918712, 0.9872833126392271, 0.9711493063704303, 0.9859121088971199, 0.9190757493954508, 0.9772699123070631, 0.2020341295447622, 0.5471757675170642, 0.2525426619309527, 0.9938144205768353, 0.25285634967598225, 0.735582108148312, 0.9888935321176605, 0.3753334084715624, 0.33703408107650495, 0.2872449554629304, 0.9930264499980936, 0.9495407889999071, 0.24983857255730252, 0.7495157176719076, 0.2842757270454367, 0.715953682929248, 0.9906951589688447, 0.9475580653877501, 0.05742776153865152, 0.9908534766131611, 0.9650790228893763, 0.9853518823592272, 0.9136722186824603, 0.7418429436555876, 0.2627360425446873, 0.9374604526356186, 0.9868557007521042, 0.9936092741793324, 0.03296266789546242, 0.9669049249335644, 0.11942255391234924, 0.7299398958520122, 0.15110608862378885, 0.05192741348889689, 0.934693442800144, 0.9980250859877445, 0.2035151855263918, 0.2170828645614846, 0.5834101985089899, 0.9291254943003113, 0.9676910796184416, 0.8424248741079476, 0.15316815892871777, 0.8721231639473728, 0.14497335996740837, 0.761110139828894, 0.10873001997555629, 0.9955654159666985, 0.9245510986272449, 0.41806262083001683, 0.5779100935003174, 0.006147979718088483, 0.9785153869883783, 0.4424888276866466, 0.5604858484030857, 0.9890953815907143, 0.9667833334360861, 0.0887254311602559, 0.2903741383426557, 0.6210780181217913, 0.960697112114058, 0.9409549212779856, 0.9659097914933822, 0.9841448168220892, 0.4628125003987096, 0.369740014092633, 0.16702048912460318, 0.8952980548071928, 0.9862202267003171, 0.010724596872386125, 0.02144919374477225, 0.9652137185147511, 0.8434835373838657, 0.15692716974583548, 0.9758251380874428, 0.9838505078967367, 0.8958940563734166, 0.08958940563734166, 0.20115647418774815, 0.6173422828520546, 0.18034718375453282, 0.8720938888219959, 0.3530149954807056, 0.6387890394412769, 0.9981985515221894, 0.9208407487563287, 0.011297152786271424, 0.762557813073321, 0.22594305572542847, 0.9929217077098742, 0.47934486024778633, 0.513583778836914, 0.9543969399129358, 0.008676335817390326, 0.0347053432695613, 0.9052122575013207, 0.9956336384385486, 0.9466627113448595, 0.8999722759783924, 0.021219792877770715, 0.9761104723774529, 0.9974738969845953, 0.7759571839477167, 0.22279958747013648, 0.9990195845513125, 0.9423087372764972, 0.06498680946734464, 0.9777496677219399, 0.6409637900734291, 0.35100398027830637, 0.6488674066367036, 0.35306020655232406, 0.0674408481336967, 0.9216915911605217, 0.8928854055579137, 0.9196971944398853, 0.9906905551103901, 0.5890024341503005, 0.4049391734783316, 0.9905084904304055, 0.6734675959904782, 0.31738128086907597, 0.2117791981908678, 0.2611943444354036, 0.5294479954771695, 0.8686640197362236, 0.9927341487653654, 0.005143700252670287, 0.5658020795890017, 0.43220992190826524, 0.8867929180342273, 0.09853254644824748, 0.9343755983215196, 0.4261240175261501, 0.5726041485507641, 0.07377524102746821, 0.8853028923296186, 0.07377524102746821, 0.0038902320349043285, 0.9958994009355081, 0.9521016876912344, 0.7058165918069067, 0.28614186154334054, 0.959329701443271, 0.9378760657047729, 0.9860773404323792, 0.7433553307523266, 0.2555283949461123, 0.9883994980884074, 0.9766187460467325, 0.9128887363840991, 0.009746143093068673, 0.08121785910890561, 0.9709392913522072, 0.9947988553024817, 0.5144254128564254, 0.14207939974129843, 0.3429502752376169], \"Term\": [\"alhamdulillah\", \"alhamdulillah\", \"alhamdulillah\", \"aman\", \"aman\", \"aman\", \"anjay\", \"awet\", \"awet\", \"awet\", \"bagus\", \"bagus\", \"bagus\", \"bagusssssssssssssssssssssssss\", \"baikpengiriman\", \"banget\", \"banget\", \"bank\", \"barang\", \"barang\", \"barang\", \"belanja\", \"beli\", \"beli\", \"beli\", \"berat\", \"berat\", \"bgt\", \"bgt\", \"bintang\", \"blm\", \"blom\", \"bngt\", \"bubble\", \"buble\", \"cantik\", \"capacity\", \"cas\", \"cepat\", \"cepat\", \"cepet\", \"cepet\", \"charge\", \"charger\", \"coba\", \"coba\", \"cpt\", \"dapet\", \"darat\", \"dateng\", \"deh\", \"deh\", \"desain\", \"deskripsi\", \"dipake\", \"diskon\", \"ekspedisi\", \"ekspektasi\", \"emas\", \"emas\", \"emas\", \"flash\", \"foto\", \"foto\", \"full\", \"fungsi\", \"fungsi\", \"fungsi\", \"gambar\", \"gan\", \"gk\", \"gk\", \"harga\", \"harga\", \"hp\", \"isi\", \"isi\", \"it\", \"jam\", \"jangkau\", \"jasa\", \"jg\", \"jg\", \"jga\", \"jual\", \"kabel\", \"kasih\", \"kasih\", \"kirim\", \"kirim\", \"kirim\", \"kondisi\", \"kondisi\", \"kualitas\", \"kurir\", \"kurir\", \"kurir\", \"lambat\", \"lampu\", \"langsung\", \"langsung\", \"laris\", \"layan\", \"layan\", \"layan\", \"lucu\", \"lucuu\", \"lumayan\", \"lumayan\", \"lumayan\", \"mah\", \"makasih\", \"makasih\", \"manfaat\", \"mantab\", \"mantap\", \"mantap\", \"mantap\", \"mantul\", \"markotop\", \"merk\", \"model\", \"moga\", \"moga\", \"moga\", \"mohon\", \"muas\", \"mudah\", \"mudah\", \"mudah\", \"nyampe\", \"nyampe\", \"nyesel\", \"official\", \"ok\", \"ok\", \"oke\", \"oke\", \"oke\", \"online\", \"ori\", \"ori\", \"original\", \"packagingnya\", \"packing\", \"packing\", \"packing\", \"packingnya\", \"paket\", \"paket\", \"pas\", \"pas\", \"pas\", \"pes\", \"pesan\", \"pict\", \"pke\", \"pokok\", \"pokok\", \"power\", \"powerbank\", \"powerbank\", \"produk\", \"promo\", \"promo\", \"puas\", \"ramah\", \"ramah\", \"rapi\", \"rapi\", \"real\", \"real\", \"rekomen\", \"rekomendasi\", \"respon\", \"robot\", \"robot\", \"sale\", \"sampe\", \"sampe\", \"selamat\", \"selamat\", \"selamat\", \"sellernya\", \"sesuai\", \"sesuai\", \"sih\", \"sih\", \"standar\", \"standar\", \"store\", \"suka\", \"suka\", \"tanggal\", \"tanggal\", \"tanggal\", \"terima\", \"terima\", \"tgl\", \"toko\", \"toko\", \"top\", \"tuju\", \"type\", \"udah\", \"udah\", \"udh\", \"ungu\", \"warna\", \"warna\", \"warna\", \"worth\", \"wrap\", \"ya\", \"ya\", \"ya\"]}, \"R\": 30, \"lambda.step\": 0.01, \"plot.opts\": {\"xlab\": \"PC1\", \"ylab\": \"PC2\"}, \"topic.order\": [2, 1, 3]};\n",
       "\n",
       "function LDAvis_load_lib(url, callback){\n",
       "  var s = document.createElement('script');\n",
       "  s.src = url;\n",
       "  s.async = true;\n",
       "  s.onreadystatechange = s.onload = callback;\n",
       "  s.onerror = function(){console.warn(\"failed to load library \" + url);};\n",
       "  document.getElementsByTagName(\"head\")[0].appendChild(s);\n",
       "}\n",
       "\n",
       "if(typeof(LDAvis) !== \"undefined\"){\n",
       "   // already loaded: just create the visualization\n",
       "   !function(LDAvis){\n",
       "       new LDAvis(\"#\" + \"ldavis_el1094023731368589127708924609\", ldavis_el1094023731368589127708924609_data);\n",
       "   }(LDAvis);\n",
       "}else if(typeof define === \"function\" && define.amd){\n",
       "   // require.js is available: use it to load d3/LDAvis\n",
       "   require.config({paths: {d3: \"https://d3js.org/d3.v5\"}});\n",
       "   require([\"d3\"], function(d3){\n",
       "      window.d3 = d3;\n",
       "      LDAvis_load_lib(\"https://cdn.jsdelivr.net/gh/bmabey/pyLDAvis/pyLDAvis/js/ldavis.v3.0.0.js\", function(){\n",
       "        new LDAvis(\"#\" + \"ldavis_el1094023731368589127708924609\", ldavis_el1094023731368589127708924609_data);\n",
       "      });\n",
       "    });\n",
       "}else{\n",
       "    // require.js not available: dynamically load d3 & LDAvis\n",
       "    LDAvis_load_lib(\"https://d3js.org/d3.v5.js\", function(){\n",
       "         LDAvis_load_lib(\"https://cdn.jsdelivr.net/gh/bmabey/pyLDAvis/pyLDAvis/js/ldavis.v3.0.0.js\", function(){\n",
       "                 new LDAvis(\"#\" + \"ldavis_el1094023731368589127708924609\", ldavis_el1094023731368589127708924609_data);\n",
       "            })\n",
       "         });\n",
       "}\n",
       "</script>"
      ],
      "text/plain": [
       "PreparedData(topic_coordinates=              x         y  topics  cluster       Freq\n",
       "topic                                                \n",
       "1     -0.146262  0.093377       1        1  38.437485\n",
       "0      0.202294  0.032616       2        1  33.456711\n",
       "2     -0.056032 -0.125993       3        1  28.105804, topic_info=         Term         Freq        Total Category  logprob  loglift\n",
       "105    produk   570.000000   570.000000  Default  30.0000  30.0000\n",
       "70      cepat   545.000000   545.000000  Default  29.0000  29.0000\n",
       "37     sesuai   388.000000   388.000000  Default  28.0000  28.0000\n",
       "39     barang  1010.000000  1010.000000  Default  27.0000  27.0000\n",
       "139  kualitas   262.000000   262.000000  Default  26.0000  26.0000\n",
       "..        ...          ...          ...      ...      ...      ...\n",
       "55      kirim   123.621738   820.615510   Topic3  -4.2014  -0.6236\n",
       "8      fungsi    74.991649   261.101191   Topic3  -4.7013   0.0217\n",
       "106     robot    55.406739   135.822868   Topic3  -5.0040   0.3725\n",
       "148      emas    59.583086   237.583621   Topic3  -4.9313  -0.1140\n",
       "158      udah    43.788029   172.192214   Topic3  -5.2393  -0.1001\n",
       "\n",
       "[196 rows x 6 columns], token_table=      Topic      Freq           Term\n",
       "term                                \n",
       "0         1  0.402725  alhamdulillah\n",
       "0         2  0.136056  alhamdulillah\n",
       "0         3  0.457147  alhamdulillah\n",
       "1         1  0.134880           aman\n",
       "1         2  0.404641           aman\n",
       "...     ...       ...            ...\n",
       "135       1  0.970939          worth\n",
       "327       3  0.994799           wrap\n",
       "156       1  0.514425             ya\n",
       "156       2  0.142079             ya\n",
       "156       3  0.342950             ya\n",
       "\n",
       "[216 rows x 3 columns], R=30, lambda_step=0.01, plot_opts={'xlab': 'PC1', 'ylab': 'PC2'}, topic_order=[2, 1, 3])"
      ]
     },
     "execution_count": 41,
     "metadata": {},
     "output_type": "execute_result"
    }
   ],
   "source": [
    "# proses ini mungkin agak lama \n",
    "LDAvis_prepared"
   ]
  },
  {
   "cell_type": "code",
   "execution_count": null,
   "id": "16448c15",
   "metadata": {},
   "outputs": [],
   "source": []
  }
 ],
 "metadata": {
  "kernelspec": {
   "display_name": "Python 3 (ipykernel)",
   "language": "python",
   "name": "python3"
  },
  "language_info": {
   "codemirror_mode": {
    "name": "ipython",
    "version": 3
   },
   "file_extension": ".py",
   "mimetype": "text/x-python",
   "name": "python",
   "nbconvert_exporter": "python",
   "pygments_lexer": "ipython3",
   "version": "3.9.12"
  }
 },
 "nbformat": 4,
 "nbformat_minor": 5
}
